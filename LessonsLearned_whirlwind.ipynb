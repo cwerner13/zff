{
 "cells": [
  {
   "cell_type": "markdown",
   "metadata": {},
   "source": [
    "# WhirlwindTourOfPython\n",
    "https://www.oreilly.com/programming/free/files/a-whirlwind-tour-of-python.pdf"
   ]
  },
  {
   "cell_type": "code",
   "execution_count": 1,
   "metadata": {},
   "outputs": [
    {
     "name": "stdout",
     "output_type": "stream",
     "text": [
      "[1, 2, 3, 100]\n"
     ]
    }
   ],
   "source": [
    "L = [1, 2, 3]\n",
    "L.append(100)\n",
    "print(L)"
   ]
  },
  {
   "cell_type": "code",
   "execution_count": 2,
   "metadata": {},
   "outputs": [
    {
     "data": {
      "text/plain": [
       "True"
      ]
     },
     "execution_count": 2,
     "metadata": {},
     "output_type": "execute_result"
    }
   ],
   "source": [
    "# check if a is between 15 and 30\n",
    "a = 25\n",
    "15 < a < 30"
   ]
  },
  {
   "cell_type": "code",
   "execution_count": 3,
   "metadata": {},
   "outputs": [
    {
     "data": {
      "text/plain": [
       "2"
      ]
     },
     "execution_count": 3,
     "metadata": {},
     "output_type": "execute_result"
    }
   ],
   "source": [
    "5 // 2"
   ]
  },
  {
   "cell_type": "code",
   "execution_count": 4,
   "metadata": {},
   "outputs": [
    {
     "data": {
      "text/plain": [
       "32"
      ]
     },
     "execution_count": 4,
     "metadata": {},
     "output_type": "execute_result"
    }
   ],
   "source": [
    "2 ** 5"
   ]
  },
  {
   "cell_type": "markdown",
   "metadata": {},
   "source": [
    "Type Name \tExample \tDescription\n",
    "list \t[1, 2, 3] \tOrdered collection\n",
    "tuple \t(1, 2, 3) \tImmutable ordered collection\n",
    "dict \t{'a':1, 'b':2, 'c':3} \tUnordered (key,value) mapping\n",
    "set \t{1, 2, 3} \tUnordered collection of unique values\n",
    "\n",
    "int, float, complex, bool, str, and so on.  ."
   ]
  },
  {
   "cell_type": "code",
   "execution_count": 19,
   "metadata": {},
   "outputs": [
    {
     "name": "stdout",
     "output_type": "stream",
     "text": [
      "L             [2, 3, 5, 7, 11]\n",
      "L[:3]         [2, 3, 5]\n",
      "L[-3:]        [5, 7, 11]\n",
      "L[0:len(L):2] [2, 5, 11]\n",
      "L[::2]        [2, 5, 11]\n"
     ]
    }
   ],
   "source": [
    "L = [2, 3, 5, 7, 11]\n",
    "print( \"L            \"       , L      ) \n",
    "print( \"L[:3]        \"       , L[:3]  )    #  first three elements of the list \n",
    "print( \"L[-3:]       \"       , L[-3:]  )   #  last three elements of the list \n",
    "print( \"L[0:len(L):2]\" , L[0:len(L):2])    #  every second element of the list,\n",
    "print( \"L[::2]       \"       , L[::2] )    #  equivalent to L[0:len(L):2]\n",
    "print( \"L[::-1]      \"       , LL[::-1] )  #  every element (step size one) in reverse order"
   ]
  },
  {
   "cell_type": "code",
   "execution_count": 23,
   "metadata": {},
   "outputs": [
    {
     "name": "stdout",
     "output_type": "stream",
     "text": [
      "t          (1, 2, 3)\n",
      "t[0]       1\n",
      "t[0]       1\n"
     ]
    },
    {
     "data": {
      "text/plain": [
       "(1, 8)"
      ]
     },
     "execution_count": 23,
     "metadata": {},
     "output_type": "execute_result"
    }
   ],
   "source": [
    " # tuples are immutable: this means that once they are created, their size and contents cannot be changed:\n",
    "t = (1, 2, 3)\n",
    "print( \"t         \"       ,t )  #   \n",
    "print( \"t[0]      \"       , t[0] )  #  \n",
    "print( \"t[0]      \"       , t[0] )  # \n",
    "\n",
    "x = 0.125\n",
    "x.as_integer_ratio()"
   ]
  },
  {
   "cell_type": "code",
   "execution_count": 28,
   "metadata": {},
   "outputs": [
    {
     "name": "stdout",
     "output_type": "stream",
     "text": [
      "{'one': 1, 'two': 2, 'three': 3, 'ninety': 90}\n"
     ]
    }
   ],
   "source": [
    "#dictionaries\n",
    "numbers = {'one':1, 'two':2, 'three':3}\n",
    "numbers['one']      #access via key only\n",
    "numbers['ninety'] = 90\n",
    "print(numbers)"
   ]
  },
  {
   "cell_type": "code",
   "execution_count": 39,
   "metadata": {},
   "outputs": [
    {
     "data": {
      "text/plain": [
       "{1, 2, 9}"
      ]
     },
     "execution_count": 39,
     "metadata": {},
     "output_type": "execute_result"
    }
   ],
   "source": [
    "#sets - unordered and unique\n",
    "primes =   {2, 3,   5,    7}\n",
    "odds =  {1,    3,   5,    7, 9}\n",
    "even=      {2,   4   , 6}\n",
    "# union: items appearing in either\n",
    "primes.union(odds)      # equivalently with a method\n",
    "primes | odds |even     # with an operator\n",
    "\n",
    "# intersection: items appearing in both\n",
    "primes & odds             # with an operator\n",
    "primes.intersection(odds) # equivalently with a method\n",
    "\n",
    "# difference: items in primes but not in odds\n",
    "primes - odds           # with an operator\n",
    "primes.difference(odds) # equivalently with a method\n",
    "\n",
    "# symmetric difference: items appearing in only one set\n",
    "primes ^ odds                     # with an operator\n",
    "primes.symmetric_difference(odds) # equivalently with a method\n"
   ]
  },
  {
   "cell_type": "code",
   "execution_count": 52,
   "metadata": {},
   "outputs": [
    {
     "data": {
      "text/plain": [
       "[1, 2, 4, 8, 16, 32, 64, 128, 256, 512]"
      ]
     },
     "execution_count": 52,
     "metadata": {},
     "output_type": "execute_result"
    }
   ],
   "source": [
    "#funczion\n",
    "\n",
    "def fibonacci(N):\n",
    "    L = []\n",
    "    a, b = 0, 1\n",
    "    while len(L) < N:\n",
    "   #     a, b    = b,  a + b  #assinged @ same time!! no order issues\n",
    "        L.append(a+b)     \n",
    "        b =  a+ b\n",
    "        a =  b        \n",
    "        L[len(L)-2] + L[len(L)-1] \n",
    "  \n",
    "    return L\n",
    "\n",
    "fibonacci(10)\n"
   ]
  },
  {
   "cell_type": "code",
   "execution_count": 53,
   "metadata": {},
   "outputs": [],
   "source": [
    "# Flexible Arguments\n",
    "# *args       --  \"arguments\"  single * before a variable means \"expand this as a sequence\"\n",
    "# **kwargs    --  \"keyword arguments\" double ** before a variable means \"expand this as a dictionary\"\n",
    "# lambda funtion to sort dicts e.g.\n",
    "\n",
    "data = [{'first':'Guido', 'last':'Van Rossum', 'YOB':1956},\n",
    "        {'first':'Grace', 'last':'Hopper',     'YOB':1906},\n",
    "        {'first':'Alan',  'last':'Turing',     'YOB':1912}]\n",
    "\n",
    "#sort alphabetically by first name\n",
    "sorted(data, key=lambda item: item['first'])"
   ]
  },
  {
   "cell_type": "code",
   "execution_count": 55,
   "metadata": {},
   "outputs": [
    {
     "name": "stdout",
     "output_type": "stream",
     "text": [
      "0 2\n",
      "1 4\n",
      "2 6\n",
      "3 8\n",
      "4 10\n"
     ]
    }
   ],
   "source": [
    "L = [2, 4, 6, 8, 10]\n",
    "\n",
    "for i, val in enumerate(L):\n",
    "    print(i, val)"
   ]
  },
  {
   "cell_type": "code",
   "execution_count": 61,
   "metadata": {},
   "outputs": [
    {
     "name": "stdout",
     "output_type": "stream",
     "text": [
      "2 3\n",
      "4 6\n",
      "6 9\n",
      "8 12\n",
      "10 15\n",
      "0 (2, 3)\n",
      "1 (4, 6)\n",
      "2 (6, 9)\n",
      "3 (8, 12)\n",
      "4 (10, 15)\n"
     ]
    }
   ],
   "source": [
    "L = [2, 4, 6, 8, 10]\n",
    "R = [3, 6, 9, 12, 15]\n",
    "for lval, rval in zip(L, R):\n",
    "    print(lval, rval)\n",
    "    \n",
    "L = [2, 4, 6, 8, 10]\n",
    "R = [3, 6, 9, 12, 15]\n",
    "for lval, rval in enumerate(zip(L, R)):\n",
    "    print( lval, rval)    "
   ]
  },
  {
   "cell_type": "code",
   "execution_count": 99,
   "metadata": {},
   "outputs": [
    {
     "name": "stdout",
     "output_type": "stream",
     "text": [
      "[[1 2 3]\n",
      " [4 5 6]\n",
      " [7 8 9]]\n",
      "[[1 4 7]\n",
      " [2 5 8]\n",
      " [3 6 9]]\n",
      "matrix mult w (5,6,):  [ 38  92 146]\n",
      "eigenvektor:           [ 1.61168440e+01 -1.11684397e+00 -9.75918483e-16]\n",
      "M.max(axis=1):           [3 6 9]\n",
      "M.max(1):                [3 6 9]\n"
     ]
    }
   ],
   "source": [
    "import numpy as np\n",
    "x = np.arange(1, 10)\n",
    "x ** 2\n",
    "\n",
    "M = x.reshape((3, 3))\n",
    "print(M)\n",
    "print(M.T)\n",
    "print(\"matrix mult w (5,6,): \", np.dot(M, [5, 6, 7]))\n",
    "print(\"eigenvektor:          \", np.linalg.eigvals(M))\n",
    "print(\"M.max(axis=1):        \", M.max(axis=1))\n",
    "print(\"M.max(1):             \", M.max(1))      #same thing"
   ]
  },
  {
   "cell_type": "code",
   "execution_count": 98,
   "metadata": {},
   "outputs": [
    {
     "name": "stdout",
     "output_type": "stream",
     "text": [
      "[0 1 2]\n",
      "[[0]\n",
      " [1]\n",
      " [2]]\n"
     ]
    }
   ],
   "source": [
    "a = np.arange(3)\n",
    "b = np.arange(3)[:, np.newaxis]\n",
    "\n",
    "print(a)\n",
    "print(b)\n",
    "\n",
    "#    isnull(): Generate a boolean mask indicating missing values\n",
    "#    notnull(): Opposite of isnull()\n",
    "#    dropna(): Return a filtered version of the data\n",
    "#    fillna(): Return a copy of the data with missing values filled or imputed\n",
    "\n",
    "data.fillna(method='bfill')"
   ]
  },
  {
   "cell_type": "code",
   "execution_count": 143,
   "metadata": {},
   "outputs": [
    {
     "data": {
      "text/html": [
       "<div>\n",
       "<style scoped>\n",
       "    .dataframe tbody tr th:only-of-type {\n",
       "        vertical-align: middle;\n",
       "    }\n",
       "\n",
       "    .dataframe tbody tr th {\n",
       "        vertical-align: top;\n",
       "    }\n",
       "\n",
       "    .dataframe thead th {\n",
       "        text-align: right;\n",
       "    }\n",
       "</style>\n",
       "<table border=\"1\" class=\"dataframe\">\n",
       "  <thead>\n",
       "    <tr style=\"text-align: right;\">\n",
       "      <th></th>\n",
       "      <th>0</th>\n",
       "      <th>YOB</th>\n",
       "      <th>first_name</th>\n",
       "      <th>last</th>\n",
       "    </tr>\n",
       "  </thead>\n",
       "  <tbody>\n",
       "    <tr>\n",
       "      <td>0</td>\n",
       "      <td>NaN</td>\n",
       "      <td>1956.0</td>\n",
       "      <td>Guido</td>\n",
       "      <td>Van Rossum</td>\n",
       "    </tr>\n",
       "    <tr>\n",
       "      <td>1</td>\n",
       "      <td>NaN</td>\n",
       "      <td>1906.0</td>\n",
       "      <td>Grace</td>\n",
       "      <td>Hopper</td>\n",
       "    </tr>\n",
       "    <tr>\n",
       "      <td>2</td>\n",
       "      <td>NaN</td>\n",
       "      <td>1912.0</td>\n",
       "      <td>Alan</td>\n",
       "      <td>Turing</td>\n",
       "    </tr>\n",
       "    <tr>\n",
       "      <td>0</td>\n",
       "      <td>a</td>\n",
       "      <td>NaN</td>\n",
       "      <td>Alan</td>\n",
       "      <td>NaN</td>\n",
       "    </tr>\n",
       "    <tr>\n",
       "      <td>1</td>\n",
       "      <td>b</td>\n",
       "      <td>NaN</td>\n",
       "      <td>Alan</td>\n",
       "      <td>NaN</td>\n",
       "    </tr>\n",
       "    <tr>\n",
       "      <td>2</td>\n",
       "      <td>c</td>\n",
       "      <td>NaN</td>\n",
       "      <td>Alan</td>\n",
       "      <td>NaN</td>\n",
       "    </tr>\n",
       "  </tbody>\n",
       "</table>\n",
       "</div>"
      ],
      "text/plain": [
       "     0     YOB first_name        last\n",
       "0  NaN  1956.0      Guido  Van Rossum\n",
       "1  NaN  1906.0      Grace      Hopper\n",
       "2  NaN  1912.0       Alan      Turing\n",
       "0    a     NaN       Alan         NaN\n",
       "1    b     NaN       Alan         NaN\n",
       "2    c     NaN       Alan         NaN"
      ]
     },
     "execution_count": 143,
     "metadata": {},
     "output_type": "execute_result"
    }
   ],
   "source": [
    "import pandas as pd\n",
    "datadf     = pd.DataFrame(data)\n",
    "datadf     = datadf.append(pd.DataFrame(['a','b', 'c']))\n",
    "datadf.rename(columns = {\"first\": \"first_name\"}, inplace = True)\n",
    "datadf.first_name.fillna(method='ffill', inplace = True)     \n",
    "datadf"
   ]
  },
  {
   "cell_type": "code",
   "execution_count": 146,
   "metadata": {},
   "outputs": [
    {
     "data": {
      "text/html": [
       "<div>\n",
       "<style scoped>\n",
       "    .dataframe tbody tr th:only-of-type {\n",
       "        vertical-align: middle;\n",
       "    }\n",
       "\n",
       "    .dataframe tbody tr th {\n",
       "        vertical-align: top;\n",
       "    }\n",
       "\n",
       "    .dataframe thead th {\n",
       "        text-align: right;\n",
       "    }\n",
       "</style>\n",
       "<table border=\"1\" class=\"dataframe\">\n",
       "  <thead>\n",
       "    <tr style=\"text-align: right;\">\n",
       "      <th></th>\n",
       "    </tr>\n",
       "  </thead>\n",
       "  <tbody>\n",
       "  </tbody>\n",
       "</table>\n",
       "</div>"
      ],
      "text/plain": [
       "Empty DataFrame\n",
       "Columns: []\n",
       "Index: []"
      ]
     },
     "execution_count": 146,
     "metadata": {},
     "output_type": "execute_result"
    }
   ],
   "source": [
    "\n",
    "\n"
   ]
  },
  {
   "cell_type": "code",
   "execution_count": 89,
   "metadata": {},
   "outputs": [
    {
     "name": "stdout",
     "output_type": "stream",
     "text": [
      "   1:\n",
      "L = [1, 2, 3]\n",
      "L.append(100)\n",
      "print(L)\n",
      "   2:\n",
      "# check if a is between 15 and 30\n",
      "a = 25\n",
      "15 < a < 30\n",
      "   3: 5 // 2\n",
      "   4: 2 ** 5\n"
     ]
    },
    {
     "data": {
      "text/plain": [
       "array([3, 6, 9])"
      ]
     },
     "execution_count": 89,
     "metadata": {},
     "output_type": "execute_result"
    }
   ],
   "source": [
    "#help\n",
    "L?\n",
    "str.*find*?\n",
    "%lsmagic\n",
    "%history  -n 1-4        # previous commands\n",
    "\n",
    "\n",
    "\n",
    "\n",
    "\n",
    "# Broadcasting is simply a set of rules for applying binary ufuncs (e.g., addition, subtraction, multiplication, etc.) on arrays of different sizes.\n",
    "# np.sum       \tnp.nansum \tCompute sum of elements\n",
    "# np.prod     \tnp.nanprod \tCompute product of elements\n",
    "# np.mean     \tnp.nanmean \tCompute mean of elements\n",
    "# np.std      \tnp.nanstd \tCompute standard deviation\n",
    "# np.var      \tnp.nanvar \tCompute variance\n",
    "# np.min      \tnp.nanmin \tFind minimum value\n",
    "# np.max      \tnp.nanmax \tFind maximum value\n",
    "# np.argmin   \tnp.nanargmin \tFind index of minimum value\n",
    "# np.argmax   \tnp.nanargmax \tFind index of maximum value\n",
    "# np.median   \tnp.nanmedian \tCompute median of elements\n",
    "# np.percentile \tnp.nanpercentile \tCompute rank-based statistics of elements\n",
    "# np.any      \tN/A \tEvaluate whether any elements are true\n",
    "# np.all      \tN/A \tEvaluate whether all elements are true"
   ]
  },
  {
   "cell_type": "code",
   "execution_count": 88,
   "metadata": {},
   "outputs": [
    {
     "name": "stdout",
     "output_type": "stream",
     "text": [
      "[[[8 1 5 9 8]\n",
      "  [9 4 3 0 3]\n",
      "  [5 0 2 3 8]\n",
      "  [1 3 3 3 7]]\n",
      "\n",
      " [[0 1 9 9 0]\n",
      "  [4 7 3 2 7]\n",
      "  [2 0 0 4 5]\n",
      "  [5 6 8 4 1]]\n",
      "\n",
      " [[4 9 8 1 1]\n",
      "  [7 9 9 3 6]\n",
      "  [7 2 0 3 5]\n",
      "  [9 4 4 6 4]]]\n",
      "x3 ndim:  3\n",
      "x3 shape: (3, 4, 5)\n",
      "x3 size:  60\n",
      "dtype: int32\n",
      "itemsize: 4 bytes\n",
      "nbytes: 240 bytes\n"
     ]
    }
   ],
   "source": [
    "import numpy        as np\n",
    "np.__version__\n",
    "np.zeros(10, dtype='int16')\n",
    "\n",
    "import numpy as np\n",
    "np.random.seed(0)  # seed for reproducibility\n",
    "\n",
    "x1 = np.random.randint(10, size=6)  # One-dimensional array\n",
    "x2 = np.random.randint(10, size=(3, 4))  # Two-dimensional array\n",
    "x3 = np.random.randint(10, size=(3, 4, 5))  # Three-dimensional array\n",
    "print(x3)\n",
    "print(\"x3 ndim: \", x3.ndim)\n",
    "print(\"x3 shape:\", x3.shape)\n",
    "print(\"x3 size: \", x3.size)\n",
    "print(\"dtype:\", x3.dtype)\n",
    "print(\"itemsize:\", x3.itemsize, \"bytes\")\n",
    "print(\"nbytes:\", x3.nbytes, \"bytes\")"
   ]
  },
  {
   "cell_type": "code",
   "execution_count": null,
   "metadata": {},
   "outputs": [],
   "source": [
    "reshape our x array into a 3x3 array:\n",
    "\n",
    "\n",
    "\n",
    "array([[1, 2, 3],\n",
    "       [4, 5, 6],\n",
    "       [7, 8, 9]])\n",
    "\n",
    "A two-dimensional array is one representation of a matrix, and NumPy knows how to efficiently do typical matrix operations. For example, you can compute the transpose using .T:\n",
    "\n",
    "\n",
    "array([[1, 4, 7],\n",
    "       [2, 5, 8],\n",
    "       [3, 6, 9]])\n",
    "\n",
    "or a matrix-vector product using np.dot:\n",
    "\n",
    "np.dot(M, [5, 6, 7])\n",
    "\n",
    "array([ 38,  92, 146])\n",
    "\n",
    "and even more sophisticated operations like eigenvalue decomposition:\n",
    "\n",
    "np.linalg.eigvals(M)\n",
    "\n",
    "array([  1.61168440e+01,  -1.11684397e+00,  -1.30367773e-15])\n",
    "\n"
   ]
  }
 ],
 "metadata": {
  "kernelspec": {
   "display_name": "Python 3",
   "language": "python",
   "name": "python3"
  },
  "language_info": {
   "codemirror_mode": {
    "name": "ipython",
    "version": 3
   },
   "file_extension": ".py",
   "mimetype": "text/x-python",
   "name": "python",
   "nbconvert_exporter": "python",
   "pygments_lexer": "ipython3",
   "version": "3.7.4"
  }
 },
 "nbformat": 4,
 "nbformat_minor": 2
}
